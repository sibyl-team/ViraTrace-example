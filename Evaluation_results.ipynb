{
 "cells": [
  {
   "cell_type": "markdown",
   "metadata": {},
   "source": [
    "# Sibyl evaluation results\n",
    "Results of the evaluation by Sibyl team. Data available here: https://github.com/sibyl-team/ViraTrace-example"
   ]
  },
  {
   "cell_type": "code",
   "execution_count": 1,
   "metadata": {},
   "outputs": [],
   "source": [
    "import sys\n",
    "sys.path.append(\"InfectionModel/contagion_sim/\")"
   ]
  },
  {
   "cell_type": "code",
   "execution_count": 2,
   "metadata": {},
   "outputs": [],
   "source": [
    "import numpy as np\n",
    "import pandas as pd\n",
    "import tqdm\n",
    "\n",
    "from multisim_model_evaluation import MultisimModelEvaluation"
   ]
  },
  {
   "cell_type": "code",
   "execution_count": 3,
   "metadata": {},
   "outputs": [],
   "source": [
    "%load_ext autoreload\n",
    "%autoreload 2"
   ]
  },
  {
   "cell_type": "code",
   "execution_count": 4,
   "metadata": {},
   "outputs": [
    {
     "name": "stderr",
     "output_type": "stream",
     "text": [
      "/opt/anaconda3/envs/bigdatalab_201911/lib/python3.7/site-packages/numpy/lib/arraysetops.py:568: FutureWarning: elementwise comparison failed; returning scalar instead, but in the future will perform elementwise comparison\n",
      "  mask |= (ar1 == a)\n"
     ]
    }
   ],
   "source": [
    "contacts = pd.read_csv(\"contacts_t_12.csv.gz\",index_col=0)"
   ]
  },
  {
   "cell_type": "code",
   "execution_count": 5,
   "metadata": {},
   "outputs": [],
   "source": [
    "observations = pd.read_csv(\"observ_t_12.csv.gz\",index_col=0)"
   ]
  },
  {
   "cell_type": "markdown",
   "metadata": {},
   "source": [
    "### Description\n",
    "\n",
    "We have 12 days of contacts and a variable number of observations up until day 11\n",
    "\n",
    "We want to obtain the risk prediction for the nodes on day 12"
   ]
  },
  {
   "cell_type": "code",
   "execution_count": 6,
   "metadata": {},
   "outputs": [
    {
     "data": {
      "text/html": [
       "<div>\n",
       "<style scoped>\n",
       "    .dataframe tbody tr th:only-of-type {\n",
       "        vertical-align: middle;\n",
       "    }\n",
       "\n",
       "    .dataframe tbody tr th {\n",
       "        vertical-align: top;\n",
       "    }\n",
       "\n",
       "    .dataframe thead th {\n",
       "        text-align: right;\n",
       "    }\n",
       "</style>\n",
       "<table border=\"1\" class=\"dataframe\">\n",
       "  <thead>\n",
       "    <tr style=\"text-align: right;\">\n",
       "      <th></th>\n",
       "      <th>i</th>\n",
       "      <th>state</th>\n",
       "      <th>t</th>\n",
       "    </tr>\n",
       "  </thead>\n",
       "  <tbody>\n",
       "    <tr>\n",
       "      <th>0</th>\n",
       "      <td>3032</td>\n",
       "      <td>1</td>\n",
       "      <td>7</td>\n",
       "    </tr>\n",
       "    <tr>\n",
       "      <th>1</th>\n",
       "      <td>6865</td>\n",
       "      <td>0</td>\n",
       "      <td>7</td>\n",
       "    </tr>\n",
       "    <tr>\n",
       "      <th>2</th>\n",
       "      <td>2868</td>\n",
       "      <td>0</td>\n",
       "      <td>7</td>\n",
       "    </tr>\n",
       "    <tr>\n",
       "      <th>3</th>\n",
       "      <td>518</td>\n",
       "      <td>0</td>\n",
       "      <td>7</td>\n",
       "    </tr>\n",
       "    <tr>\n",
       "      <th>4</th>\n",
       "      <td>7375</td>\n",
       "      <td>0</td>\n",
       "      <td>7</td>\n",
       "    </tr>\n",
       "    <tr>\n",
       "      <th>...</th>\n",
       "      <td>...</td>\n",
       "      <td>...</td>\n",
       "      <td>...</td>\n",
       "    </tr>\n",
       "    <tr>\n",
       "      <th>47</th>\n",
       "      <td>2207</td>\n",
       "      <td>0</td>\n",
       "      <td>11</td>\n",
       "    </tr>\n",
       "    <tr>\n",
       "      <th>48</th>\n",
       "      <td>5215</td>\n",
       "      <td>0</td>\n",
       "      <td>11</td>\n",
       "    </tr>\n",
       "    <tr>\n",
       "      <th>49</th>\n",
       "      <td>6637</td>\n",
       "      <td>0</td>\n",
       "      <td>11</td>\n",
       "    </tr>\n",
       "    <tr>\n",
       "      <th>50</th>\n",
       "      <td>5255</td>\n",
       "      <td>0</td>\n",
       "      <td>11</td>\n",
       "    </tr>\n",
       "    <tr>\n",
       "      <th>51</th>\n",
       "      <td>3825</td>\n",
       "      <td>0</td>\n",
       "      <td>11</td>\n",
       "    </tr>\n",
       "  </tbody>\n",
       "</table>\n",
       "<p>260 rows × 3 columns</p>\n",
       "</div>"
      ],
      "text/plain": [
       "       i  state   t\n",
       "0   3032      1   7\n",
       "1   6865      0   7\n",
       "2   2868      0   7\n",
       "3    518      0   7\n",
       "4   7375      0   7\n",
       "..   ...    ...  ..\n",
       "47  2207      0  11\n",
       "48  5215      0  11\n",
       "49  6637      0  11\n",
       "50  5255      0  11\n",
       "51  3825      0  11\n",
       "\n",
       "[260 rows x 3 columns]"
      ]
     },
     "execution_count": 6,
     "metadata": {},
     "output_type": "execute_result"
    }
   ],
   "source": [
    "observations"
   ]
  },
  {
   "cell_type": "code",
   "execution_count": 7,
   "metadata": {},
   "outputs": [
    {
     "data": {
      "text/html": [
       "<div>\n",
       "<style scoped>\n",
       "    .dataframe tbody tr th:only-of-type {\n",
       "        vertical-align: middle;\n",
       "    }\n",
       "\n",
       "    .dataframe tbody tr th {\n",
       "        vertical-align: top;\n",
       "    }\n",
       "\n",
       "    .dataframe thead th {\n",
       "        text-align: right;\n",
       "    }\n",
       "</style>\n",
       "<table border=\"1\" class=\"dataframe\">\n",
       "  <thead>\n",
       "    <tr style=\"text-align: right;\">\n",
       "      <th></th>\n",
       "      <th>i</th>\n",
       "      <th>j</th>\n",
       "      <th>t</th>\n",
       "    </tr>\n",
       "  </thead>\n",
       "  <tbody>\n",
       "    <tr>\n",
       "      <th>0</th>\n",
       "      <td>0</td>\n",
       "      <td>3</td>\n",
       "      <td>0</td>\n",
       "    </tr>\n",
       "    <tr>\n",
       "      <th>1</th>\n",
       "      <td>0</td>\n",
       "      <td>2</td>\n",
       "      <td>0</td>\n",
       "    </tr>\n",
       "    <tr>\n",
       "      <th>2</th>\n",
       "      <td>0</td>\n",
       "      <td>1</td>\n",
       "      <td>0</td>\n",
       "    </tr>\n",
       "    <tr>\n",
       "      <th>3</th>\n",
       "      <td>0</td>\n",
       "      <td>1540</td>\n",
       "      <td>0</td>\n",
       "    </tr>\n",
       "    <tr>\n",
       "      <th>4</th>\n",
       "      <td>0</td>\n",
       "      <td>7583</td>\n",
       "      <td>0</td>\n",
       "    </tr>\n",
       "    <tr>\n",
       "      <th>...</th>\n",
       "      <td>...</td>\n",
       "      <td>...</td>\n",
       "      <td>...</td>\n",
       "    </tr>\n",
       "    <tr>\n",
       "      <th>1320789</th>\n",
       "      <td>9999</td>\n",
       "      <td>2726</td>\n",
       "      <td>12</td>\n",
       "    </tr>\n",
       "    <tr>\n",
       "      <th>1320790</th>\n",
       "      <td>9999</td>\n",
       "      <td>7050</td>\n",
       "      <td>12</td>\n",
       "    </tr>\n",
       "    <tr>\n",
       "      <th>1320791</th>\n",
       "      <td>9999</td>\n",
       "      <td>6990</td>\n",
       "      <td>12</td>\n",
       "    </tr>\n",
       "    <tr>\n",
       "      <th>1320792</th>\n",
       "      <td>9999</td>\n",
       "      <td>9242</td>\n",
       "      <td>12</td>\n",
       "    </tr>\n",
       "    <tr>\n",
       "      <th>1320793</th>\n",
       "      <td>9999</td>\n",
       "      <td>2447</td>\n",
       "      <td>12</td>\n",
       "    </tr>\n",
       "  </tbody>\n",
       "</table>\n",
       "<p>1320794 rows × 3 columns</p>\n",
       "</div>"
      ],
      "text/plain": [
       "            i     j   t\n",
       "0           0     3   0\n",
       "1           0     2   0\n",
       "2           0     1   0\n",
       "3           0  1540   0\n",
       "4           0  7583   0\n",
       "...       ...   ...  ..\n",
       "1320789  9999  2726  12\n",
       "1320790  9999  7050  12\n",
       "1320791  9999  6990  12\n",
       "1320792  9999  9242  12\n",
       "1320793  9999  2447  12\n",
       "\n",
       "[1320794 rows x 3 columns]"
      ]
     },
     "execution_count": 7,
     "metadata": {},
     "output_type": "execute_result"
    }
   ],
   "source": [
    "contacts"
   ]
  },
  {
   "cell_type": "code",
   "execution_count": 8,
   "metadata": {},
   "outputs": [],
   "source": [
    "contacts.rename(columns={'i': 'a', 'j': 'b'}, inplace=True)"
   ]
  },
  {
   "cell_type": "code",
   "execution_count": 9,
   "metadata": {},
   "outputs": [],
   "source": [
    "observations.rename(columns={'i': 'a'}, inplace=True)"
   ]
  },
  {
   "cell_type": "code",
   "execution_count": 10,
   "metadata": {},
   "outputs": [],
   "source": [
    "N = max(contacts['a'])+1\n",
    "n_days = max(contacts['t'])\n",
    "INFECTION_P = 0.02\n",
    "INFECTED_P = 1/N\n",
    "RECOVERY_T = 50\n",
    "\n",
    "N_SIMS = 1000\n",
    "\n",
    "SEED=4\n",
    "\n",
    "edge_batch_gen = ((t, contacts[contacts.t == t]) for t in range(0, contacts.t.max()))"
   ]
  },
  {
   "cell_type": "code",
   "execution_count": 11,
   "metadata": {},
   "outputs": [],
   "source": [
    "np.random.seed(SEED)\n",
    "model = MultisimModelEvaluation(N, n_days, N_SIMS, edge_batch_gen, observations,\n",
    "                                INFECTION_P, INFECTED_P, RECOVERY_T, None, recovery_dist='geometric',\n",
    "                                directed_edges=True, tqdm=tqdm.tqdm)"
   ]
  },
  {
   "cell_type": "code",
   "execution_count": 12,
   "metadata": {},
   "outputs": [
    {
     "name": "stderr",
     "output_type": "stream",
     "text": [
      "Starting simulation...: 100%|██████████| 12/12 [00:37<00:00,  3.11s/it]\n"
     ]
    }
   ],
   "source": [
    "model.run_sim()"
   ]
  },
  {
   "cell_type": "code",
   "execution_count": 13,
   "metadata": {},
   "outputs": [
    {
     "data": {
      "text/plain": [
       "8182    1.000\n",
       "9438    1.000\n",
       "5647    0.985\n",
       "1       0.983\n",
       "1085    0.983\n",
       "8345    0.959\n",
       "1839    0.953\n",
       "6118    0.938\n",
       "4698    0.938\n",
       "6688    0.930\n",
       "3032    0.928\n",
       "5210    0.109\n",
       "1016    0.106\n",
       "2       0.090\n",
       "5232    0.087\n",
       "3       0.085\n",
       "6693    0.080\n",
       "6690    0.078\n",
       "3033    0.077\n",
       "6689    0.076\n",
       "dtype: float64"
      ]
     },
     "execution_count": 13,
     "metadata": {},
     "output_type": "execute_result"
    }
   ],
   "source": [
    "risk = pd.Series(model.I.sum(axis=1)).sort_values(ascending=False)\n",
    "risk = (risk / risk.max())\n",
    "risk.head(20)"
   ]
  },
  {
   "cell_type": "code",
   "execution_count": 14,
   "metadata": {},
   "outputs": [],
   "source": [
    "def get_risk(model):\n",
    "    risk = pd.Series(model.I.sum(axis=1)).sort_values(ascending=False)\n",
    "    risk = (risk / risk.max())\n",
    "    return risk"
   ]
  },
  {
   "cell_type": "code",
   "execution_count": null,
   "metadata": {},
   "outputs": [],
   "source": []
  },
  {
   "cell_type": "code",
   "execution_count": 14,
   "metadata": {},
   "outputs": [
    {
     "name": "stderr",
     "output_type": "stream",
     "text": [
      "/opt/anaconda3/envs/bigdatalab_201911/lib/python3.7/site-packages/ipykernel_launcher.py:1: FutureWarning: The signature of `Series.to_csv` was aligned to that of `DataFrame.to_csv`, and argument 'header' will change its default value from False to True: please pass an explicit value to suppress this warning.\n",
      "  \"\"\"Entry point for launching an IPython kernel.\n"
     ]
    }
   ],
   "source": [
    "risk.to_csv(\"nodes_risk_original_model.csv\")"
   ]
  },
  {
   "cell_type": "markdown",
   "metadata": {},
   "source": [
    "## Faster version"
   ]
  },
  {
   "cell_type": "code",
   "execution_count": 15,
   "metadata": {},
   "outputs": [],
   "source": [
    "from sibyl_model_eval import FasterEvaluationModel"
   ]
  },
  {
   "cell_type": "code",
   "execution_count": 16,
   "metadata": {},
   "outputs": [],
   "source": [
    "np.random.seed(SEED)\n",
    "edge_batch_gen = ((t, contacts[contacts.t == t]) for t in range(0, contacts.t.max()))\n",
    "\n",
    "our_model = FasterEvaluationModel(N, n_days, N_SIMS, edge_batch_gen, observations,\n",
    "                                INFECTION_P, INFECTED_P, RECOVERY_T, None, recovery_dist='geometric',\n",
    "                                directed_edges=True, tqdm=tqdm.tqdm)"
   ]
  },
  {
   "cell_type": "code",
   "execution_count": 17,
   "metadata": {},
   "outputs": [
    {
     "name": "stderr",
     "output_type": "stream",
     "text": [
      "Starting simulation...: 100%|██████████| 12/12 [00:15<00:00,  1.30s/it]\n"
     ]
    }
   ],
   "source": [
    "our_model.run_sim()"
   ]
  },
  {
   "cell_type": "code",
   "execution_count": 18,
   "metadata": {},
   "outputs": [],
   "source": [
    "our_risk = get_risk(our_model)"
   ]
  },
  {
   "cell_type": "code",
   "execution_count": 19,
   "metadata": {},
   "outputs": [
    {
     "data": {
      "text/plain": [
       "True"
      ]
     },
     "execution_count": 19,
     "metadata": {},
     "output_type": "execute_result"
    }
   ],
   "source": [
    "np.all(model.I == our_model.I)"
   ]
  },
  {
   "cell_type": "markdown",
   "metadata": {},
   "source": [
    "## Old model - MultisimRank"
   ]
  },
  {
   "cell_type": "code",
   "execution_count": 42,
   "metadata": {},
   "outputs": [],
   "source": [
    "from continuous_fast import MultisimRankModel\n",
    "mu = 1/RECOVERY_T\n",
    "\n",
    "np.random.seed(SEED)\n",
    "model_ours = MultisimRankModel(N, INFECTION_P, mu, n_days, N_SIMS, contacts_directed=True, tqdm=tqdm.tqdm)"
   ]
  },
  {
   "cell_type": "markdown",
   "metadata": {},
   "source": [
    "### Add contacts\n",
    "Replacing the index in the contacts"
   ]
  },
  {
   "cell_type": "code",
   "execution_count": 43,
   "metadata": {},
   "outputs": [],
   "source": [
    "for day, con_day  in contacts.groupby(\"t\"):\n",
    "    model_ours.add_contacts_day(day, con_day.reset_index(drop=True))"
   ]
  },
  {
   "cell_type": "markdown",
   "metadata": {},
   "source": [
    "### Add observations\n",
    "\n",
    "Add the observations for each day, formatting them for ViraTrace"
   ]
  },
  {
   "cell_type": "code",
   "execution_count": 44,
   "metadata": {},
   "outputs": [
    {
     "name": "stdout",
     "output_type": "stream",
     "text": [
      "[3032]\n",
      "7\n",
      "[4698 6688 6118]\n",
      "8\n",
      "[8345 1839]\n",
      "9\n",
      "[5647 1085]\n",
      "10\n",
      "[9438 8182]\n",
      "Propagation\n",
      "11\n"
     ]
    }
   ],
   "source": [
    "for day, observ_day in observations.groupby(\"t\"):\n",
    "    #print(observ_day)\n",
    "    positive_test_idx = observ_day[observ_day.state == 1][\"a\"]\n",
    "    print(positive_test_idx.values)\n",
    "    \n",
    "    negative_test_idx = observ_day[observ_day.state == 0][\"a\"]\n",
    "    \n",
    "    tested_positive = np.full(N,False)\n",
    "    if len(positive_test_idx) > 0:\n",
    "        tested_positive[positive_test_idx.values] = True\n",
    "    tested_negative = np.full(N,False)\n",
    "    if len(negative_test_idx) > 0:\n",
    "        tested_negative[negative_test_idx.values] = True\n",
    "\n",
    "    model_ours.set_daily_observations(day, tested_negative, tested_positive)\n",
    "    print(day)\n"
   ]
  },
  {
   "cell_type": "markdown",
   "metadata": {},
   "source": [
    "### Launch simulations\n",
    "Since we have no observations of the initial condition, we have to use a prior probability for each node to be infected at time 0"
   ]
  },
  {
   "cell_type": "code",
   "execution_count": 45,
   "metadata": {},
   "outputs": [
    {
     "name": "stderr",
     "output_type": "stream",
     "text": [
      "Starting simulation...:   0%|          | 0/12 [00:00<?, ?it/s]"
     ]
    },
    {
     "name": "stdout",
     "output_type": "stream",
     "text": [
      "Setting random initial condition\n"
     ]
    },
    {
     "name": "stderr",
     "output_type": "stream",
     "text": [
      "Day:12\tS:99%\tI:0%\tR:0%: 100%|██████████| 12/12 [00:15<00:00,  1.30s/it]\n"
     ]
    }
   ],
   "source": [
    "model_ours.start_sim(INFECTED_P)"
   ]
  },
  {
   "cell_type": "code",
   "execution_count": 54,
   "metadata": {},
   "outputs": [
    {
     "data": {
      "text/plain": [
       "[<matplotlib.lines.Line2D at 0x7f9e6e456690>]"
      ]
     },
     "execution_count": 54,
     "metadata": {},
     "output_type": "execute_result"
    },
    {
     "data": {
      "image/png": "[encoded data removed]",
      "text/plain": [
       "<Figure size 432x288 with 1 Axes>"
      ]
     },
     "metadata": {
      "needs_background": "light"
     },
     "output_type": "display_data"
    }
   ],
   "source": [
    "import matplotlib.pyplot as plt\n",
    "re = (model.I != model_ours.I)\n",
    "re.sum(1)\n",
    "plt.plot(re.sum(1),\".\")"
   ]
  },
  {
   "cell_type": "markdown",
   "metadata": {},
   "source": [
    "### Calculate risk"
   ]
  },
  {
   "cell_type": "code",
   "execution_count": 24,
   "metadata": {},
   "outputs": [],
   "source": [
    "def get_risk_MultiSimRank(model):\n",
    "    risk = pd.Series(model.I.sum(1))\n",
    "\n",
    "    risk = (risk / risk.max()).sort_values()\n",
    "\n",
    "    risk.sort_values(ascending=False, inplace=True)\n",
    "    return risk"
   ]
  },
  {
   "cell_type": "code",
   "execution_count": 25,
   "metadata": {},
   "outputs": [],
   "source": [
    "risk_ours = get_risk_MultiSimRank(model_ours)"
   ]
  },
  {
   "cell_type": "code",
   "execution_count": 26,
   "metadata": {},
   "outputs": [
    {
     "data": {
      "text/plain": [
       "8182    1.000\n",
       "9438    1.000\n",
       "1085    0.985\n",
       "5647    0.980\n",
       "8345    0.967\n",
       "1839    0.964\n",
       "4698    0.951\n",
       "6118    0.947\n",
       "3032    0.924\n",
       "6688    0.924\n",
       "3033    0.093\n",
       "6692    0.092\n",
       "4699    0.086\n",
       "6689    0.080\n",
       "6693    0.079\n",
       "6690    0.073\n",
       "1837    0.065\n",
       "1838    0.057\n",
       "3915    0.053\n",
       "1904    0.047\n",
       "dtype: float64"
      ]
     },
     "execution_count": 26,
     "metadata": {},
     "output_type": "execute_result"
    }
   ],
   "source": [
    "risk_ours.head(20)"
   ]
  },
  {
   "cell_type": "code",
   "execution_count": 33,
   "metadata": {},
   "outputs": [
    {
     "data": {
      "text/plain": [
       "<matplotlib.axes._subplots.AxesSubplot at 0x7f9e7002ead0>"
      ]
     },
     "execution_count": 33,
     "metadata": {},
     "output_type": "execute_result"
    },
    {
     "data": {
      "image/png": "[encoded data removed]",
      "text/plain": [
       "<Figure size 432x288 with 1 Axes>"
      ]
     },
     "metadata": {
      "needs_background": "light"
     },
     "output_type": "display_data"
    }
   ],
   "source": [
    "(risk_ours - risk).abs().plot(xlim=(-80,10080))"
   ]
  },
  {
   "cell_type": "code",
   "execution_count": null,
   "metadata": {},
   "outputs": [],
   "source": [
    "risk.plot()"
   ]
  },
  {
   "cell_type": "code",
   "execution_count": 25,
   "metadata": {},
   "outputs": [
    {
     "data": {
      "text/plain": [
       "(0.001, 0.983)"
      ]
     },
     "execution_count": 25,
     "metadata": {},
     "output_type": "execute_result"
    }
   ],
   "source": [
    "risk_ours[1], risk[1]"
   ]
  },
  {
   "cell_type": "code",
   "execution_count": null,
   "metadata": {},
   "outputs": [],
   "source": []
  }
 ],
 "metadata": {
  "kernelspec": {
   "display_name": "Python 3",
   "language": "python",
   "name": "python3"
  },
  "language_info": {
   "codemirror_mode": {
    "name": "ipython",
    "version": 3
   },
   "file_extension": ".py",
   "mimetype": "text/x-python",
   "name": "python",
   "nbconvert_exporter": "python",
   "pygments_lexer": "ipython3",
   "version": "3.7.5"
  }
 },
 "nbformat": 4,
 "nbformat_minor": 4
}
